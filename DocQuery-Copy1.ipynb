{
 "cells": [
  {
   "cell_type": "markdown",
   "id": "9adb6a3c-63f6-4ee8-b50d-aaf58f0f0db9",
   "metadata": {
    "panel-layout": {
     "height": 51.15000915527344,
     "visible": true,
     "width": 100
    }
   },
   "source": [
    "# DocQuery: Intelligent Document Retrieval System\n",
    "## A RAG-powered Question Answering Pipeline with Pinecone Database"
   ]
  },
  {
   "cell_type": "markdown",
   "id": "3911f55f-8e44-4e1d-a4f0-3df66dff66bb",
   "metadata": {},
   "source": [
    "### Overview\n",
    "### This notebook implements a Retrieval Augmented Generation (RAG) pipeline for intelligent document querying. The system processes PDF documents, converts them into searchable vectors, and answers questions using the context from these documents."
   ]
  },
  {
   "cell_type": "code",
   "execution_count": 6,
   "id": "0980871c-7e56-48a8-861e-b22c314394d1",
   "metadata": {},
   "outputs": [
    {
     "data": {
      "text/plain": [
       "'G:\\\\RAG'"
      ]
     },
     "execution_count": 6,
     "metadata": {},
     "output_type": "execute_result"
    }
   ],
   "source": [
    "pwd"
   ]
  },
  {
   "cell_type": "code",
   "execution_count": 7,
   "id": "866501cc-e9b0-47e7-987b-b1931ca7d2be",
   "metadata": {},
   "outputs": [],
   "source": [
    "from pinecone.grpc import PineconeGRPC as Pinecone\n",
    "from pinecone import ServerlessSpec\n",
    "import time"
   ]
  },
  {
   "cell_type": "code",
   "execution_count": 8,
   "id": "03cc6012-3572-4e54-8628-84c9a24c1e46",
   "metadata": {},
   "outputs": [],
   "source": [
    "import openai\n"
   ]
  },
  {
   "cell_type": "code",
   "execution_count": 5,
   "id": "1ee939f2-217a-4bf0-a64c-fe26137c207d",
   "metadata": {},
   "outputs": [],
   "source": [
    "OPENAI_API_KEY = \"Enter api key\"\n",
    "PINECONE_API_KEY = \"Enter api key\""
   ]
  },
  {
   "cell_type": "markdown",
   "id": "344257cc-f97f-467c-9a75-0ef4113ddd55",
   "metadata": {},
   "source": [
    "## PDF Processing\n",
    "The system uses PyPDF2 to extract text from PDF documents. The text is then split into meaningful chunks while preserving context and document structure."
   ]
  },
  {
   "cell_type": "code",
   "execution_count": 1,
   "id": "053b4b80-b0aa-4c03-8127-d5824a40d559",
   "metadata": {},
   "outputs": [],
   "source": [
    "import PyPDF2\n",
    "import re\n",
    "import uuid\n",
    "\n",
    "def convert_pdf_to_docs(pdf_path):\n",
    "    docs = []\n",
    "    \n",
    "    try:\n",
    "        # Open the PDF file\n",
    "        with open(pdf_path, 'rb') as file:\n",
    "            # Create a PDF reader object\n",
    "            pdf_reader = PyPDF2.PdfReader(file)\n",
    "            \n",
    "            # Iterate through all pages\n",
    "            for page_num in range(len(pdf_reader.pages)):\n",
    "                # Get the page object\n",
    "                page = pdf_reader.pages[page_num]\n",
    "                \n",
    "                # Extract text from the page\n",
    "                text = page.extract_text()\n",
    "                \n",
    "                # Split text into paragraphs (split by double newlines)\n",
    "                paragraphs = re.split(r'\\n\\s*\\n', text)\n",
    "                \n",
    "                # Clean paragraphs and create documents\n",
    "                for paragraph in paragraphs:\n",
    "                    # Clean and normalize the text\n",
    "                    cleaned_text = ' '.join(paragraph.split())\n",
    "                    \n",
    "                    # Skip empty paragraphs\n",
    "                    if cleaned_text.strip():\n",
    "                        # Create document dictionary\n",
    "                        doc = {\n",
    "                            \"id\": str(uuid.uuid4())[:8],  # Generate a unique ID\n",
    "                            \"text\": cleaned_text\n",
    "                        }\n",
    "                        docs.append(doc)\n",
    "    \n",
    "    except Exception as e:\n",
    "        print(f\"Error processing PDF: {str(e)}\")\n",
    "        return None\n",
    "    \n",
    "    return docs"
   ]
  },
  {
   "cell_type": "markdown",
   "id": "e900c8ed-584b-4d87-aa5a-6a5d1ba7ac5f",
   "metadata": {},
   "source": [
    "## I am assuming the relevant files of the business that we need to retrieve data from are in pdf format. I have taken a random QnA pdf from swayam portal website as a sample"
   ]
  },
  {
   "cell_type": "code",
   "execution_count": 24,
   "id": "66a5106f-1345-491d-9e61-2f678193dad7",
   "metadata": {},
   "outputs": [
    {
     "name": "stdout",
     "output_type": "stream",
     "text": [
      "Successfully converted PDF into 25 documents:\n",
      "\n",
      "ID: 3036de5f\n",
      "Text: ALL INDIA COUNCIL FOR TECHNICAL EDUCATION (AICTE ), NEW DELHI SWAYAM Cell FREQUENT LY ASKED QUESTION...\n",
      "\n",
      "ID: 82fd2ef3\n",
      "Text: 1. What is SWAYAM? SWAYAM (Study Webs of Active -learning for Young Aspiring Minds); India Chapter o...\n",
      "\n",
      "ID: 0e978994\n",
      "Text: can be downloaded/printed (3) self - assessment tests through tests and quizzes and (4) an online di...\n",
      "\n",
      "ID: b7a7cd4a\n",
      "Text: 12. Will the Courses launched on SWAYAM address the issues concerning shortage & quality of Teachers...\n",
      "\n",
      "ID: c22f3acc\n",
      "Text: institutes are engaged in development of e - content. 15. Is SWAYAM a part of Digital India Programm...\n",
      "\n",
      "ID: ae1cfd51\n",
      "Text: 17. Targets to be achieved through SWAYAM? The specific target proposed is addressed to the needs of...\n",
      "\n",
      "ID: efa7e9fd\n",
      "Text: Provide robust Internet Cloud (with CDN) and sufficient bandwidth for concurrent viewings of 1 Milli...\n",
      "\n",
      "ID: f2717025\n",
      "Text: 22. Has the Ministry issued any Guidelines on the preparation of MOOCs? The Ministry vide notificati...\n",
      "\n",
      "ID: 4d85462d\n",
      "Text: Semester through the online learning courses provided through SWAYAM platform. [B] REGISTERING ON SW...\n",
      "\n",
      "ID: 599b2d08\n",
      "Text: 1. How can I register on Swayam? Go to and click \"Register as Student\" to register yourself. 2. What...\n",
      "\n",
      "ID: 83af6c0d\n",
      "Text: 1. How can I search a course on Swayam? You can search with your own keywords or you can choose cate...\n",
      "\n",
      "ID: d156ca44\n",
      "Text: 9. Where can a learner find, course syllabus & details of course credit? The learner will be able to...\n",
      "\n",
      "ID: 220f053b\n",
      "Text: 1. How to find out the eligibilities for the courses? In the Course -page, all the details of the el...\n",
      "\n",
      "ID: 61fdeef5\n",
      "Text: 1. Once you get enrolled into the course you need to go to the course schedule to access all the cou...\n",
      "\n",
      "ID: e9b99357\n",
      "Text: 8. Is Pre -Survey form mandatory to the course learners? Yes. The learner will not be able to access...\n",
      "\n",
      "ID: 69774648\n",
      "Text: link in the footer of the page to access your personal Grievances page. On this page, you will see a...\n",
      "\n",
      "ID: 808ba9a5\n",
      "Text: Please note that this option should be exercised with caution, and frivolous grievances should not b...\n",
      "\n",
      "ID: 2a5e9cde\n",
      "Text: You can file a grievance under the following heads....\n",
      "\n",
      "ID: 8fcbf09d\n",
      "Text: 1.Against Registrar (Accepting) 2. Against Registrar (Receiving) 3. Against course coordinator 4. Ag...\n",
      "\n",
      "ID: 6637a60a\n",
      "Text: If you are a Swayam mobile app user, you will receive a notification when the status of your grievan...\n",
      "\n",
      "ID: 3979dac0\n",
      "Text: it. Just make sure that you allow the Flash plugin to access your audio a nd video. Your attendance ...\n",
      "\n",
      "ID: 1be50b07\n",
      "Text: 1. Do I need a dedicated internet connection? or I can consume course contents offline once logged i...\n",
      "\n",
      "ID: 63a52338\n",
      "Text: 1. How can I send personal message to faculty? You can find the option to send personal message to t...\n",
      "\n",
      "ID: 371d5984\n",
      "Text: [H] ASSIGNMENT GRADING...\n",
      "\n",
      "ID: 7e0f923b\n",
      "Text: 1. Can a learner see the maximum marks which are attached to each assignment? Yes. 2. How can a lear...\n"
     ]
    }
   ],
   "source": [
    "\n",
    "pdf_path = \"business_faq.pdf\"\n",
    "    \n",
    "# Convert PDF to documents\n",
    "result_docs = convert_pdf_to_docs(pdf_path)\n",
    "    \n",
    "if result_docs:\n",
    "    # Print the results\n",
    "    print(f\"Successfully converted PDF into {len(result_docs)} documents:\")\n",
    "    for doc in result_docs:\n",
    "        print(f\"\\nID: {doc['id']}\")\n",
    "        print(f\"Text: {doc['text'][:100]}...\")  # Print first 100 characters\n",
    "else:\n",
    "    print(\"Failed to convert PDF\")\n"
   ]
  },
  {
   "cell_type": "code",
   "execution_count": 3,
   "id": "d14a67ab-7635-4a92-aad0-cf5a47aed875",
   "metadata": {},
   "outputs": [],
   "source": [
    "result_docs"
   ]
  },
  {
   "cell_type": "code",
   "execution_count": 9,
   "id": "b50954ac-95b9-4ab6-bfef-526c7afabd24",
   "metadata": {},
   "outputs": [],
   "source": [
    "pc = Pinecone(api_key=PINECONE_API_KEY )"
   ]
  },
  {
   "cell_type": "markdown",
   "id": "c1b961e3-f53e-4854-bb45-ac3458ea2dee",
   "metadata": {},
   "source": [
    "## Vector Database Integration\n",
    "### - Generate embeddings using multilingual-e5-large\n",
    "### - Store vectors in Pinecone serverless index\n",
    "### - Enable efficient similarity search\n",
    "### - I have used the same method used in official pinecone documentation https://docs.pinecone.io/guides/get-started/quickstart"
   ]
  },
  {
   "cell_type": "markdown",
   "id": "cb8d42d5-15e8-4111-a936-29ac68f6862d",
   "metadata": {},
   "source": [
    "## Pinecone index is configured with:\n",
    "\n",
    "### - Dimension: 1024\n",
    "### - Metric: Cosine similarity\n",
    "### - Infrastructure: AWS Serverless\n",
    "### - Region: us-east-1\n"
   ]
  },
  {
   "cell_type": "code",
   "execution_count": 16,
   "id": "09b22e60-06b6-4035-984d-2be350ae5a64",
   "metadata": {},
   "outputs": [],
   "source": [
    "def initialize_pinecone():\n",
    "    pc = Pinecone(api_key=PINECONE_API_KEY)\n",
    "    \n",
    "    \n",
    "    embeddings = pc.inference.embed(\n",
    "        model=\"multilingual-e5-large\",\n",
    "        inputs=[d['text'] for d in result_docs],\n",
    "        parameters={\"input_type\": \"passage\", \"truncate\": \"END\"}\n",
    "    )\n",
    "    \n",
    "    \n",
    "    index_name = \"example-index1\"\n",
    "    try:\n",
    "        pc.create_index(\n",
    "            name=index_name,\n",
    "            dimension=1024,\n",
    "            metric=\"cosine\",\n",
    "            spec=ServerlessSpec(\n",
    "                cloud='aws', \n",
    "                region='us-east-1'\n",
    "            ) \n",
    "        )\n",
    "    except Exception as e:\n",
    "        print(f\"Index might already exist: {e}\")\n",
    "    \n",
    "    \n",
    "    while not pc.describe_index(index_name).status['ready']:\n",
    "        time.sleep(1)\n",
    "    \n",
    "\n",
    "    index = pc.Index(index_name)\n",
    "    \n",
    "    \n",
    "    records = [\n",
    "        {\n",
    "            \"id\": d['id'],\n",
    "            \"values\": e['values'],\n",
    "            \"metadata\": {'text': d['text']}\n",
    "        }\n",
    "        for d, e in zip(sample_docs, embeddings)\n",
    "    ]\n",
    "    \n",
    "    index.upsert(\n",
    "        vectors=records,\n",
    "        namespace=\"example-namespace\"\n",
    "    )\n",
    "    \n",
    "    return pc, index"
   ]
  },
  {
   "cell_type": "markdown",
   "id": "4b077120-e29b-43ac-8311-18b3a85549d2",
   "metadata": {},
   "source": [
    "## Query Processing\n",
    "### The system follows these steps for each query:\n",
    "\n",
    "### - Convert question to vector embedding\n",
    "### - Find relevant documents in Pinecone\n",
    "### - Generate context-aware response using LLM"
   ]
  },
  {
   "cell_type": "code",
   "execution_count": 11,
   "id": "c689652e-da0b-4066-a61d-b30f56365a87",
   "metadata": {},
   "outputs": [],
   "source": [
    "\n",
    "def get_embedding(pc, text):\n",
    "    query_embedding = pc.inference.embed(\n",
    "        model=\"multilingual-e5-large\",\n",
    "        inputs=[text],\n",
    "        parameters={\"input_type\": \"query\"}\n",
    "    )\n",
    "    return query_embedding[0].values\n",
    "\n",
    "\n",
    "def find_relevant_docs(index, query_vector):\n",
    "    results = index.query(\n",
    "        namespace=\"example-namespace\",\n",
    "        vector=query_vector,\n",
    "        top_k=3,\n",
    "        include_values=False,\n",
    "        include_metadata=True\n",
    "    )\n",
    "    return [match.metadata['text'] for match in results.matches]\n"
   ]
  },
  {
   "cell_type": "code",
   "execution_count": 29,
   "id": "57978e4b-4e54-4341-9bb9-8f97d499d664",
   "metadata": {},
   "outputs": [],
   "source": [
    "from openai import OpenAI\n",
    "\n",
    "def generate_answer(question, context):\n",
    "    \n",
    "    client = OpenAI(api_key=OPENAI_API_KEY)\n",
    "    \n",
    "    context_text = \"\\n\".join(context)\n",
    "    prompt = f\"\"\"Using the following context, answer the question. If the answer isn't in the context, say \"I don't have enough information to answer that.\"\n",
    "    \n",
    "    Context:\n",
    "    {context_text}\n",
    "    \n",
    "    Question: {question}\n",
    "    Answer:\"\"\"\n",
    "    \n",
    "    try:\n",
    "        response = client.chat.completions.create(\n",
    "            model=\"gpt-3.5-turbo\",\n",
    "            messages=[\n",
    "                {\"role\": \"system\", \"content\": \"You are a helpful assistant.\"},\n",
    "                {\"role\": \"user\", \"content\": prompt}\n",
    "            ],\n",
    "            temperature=0.7,\n",
    "            max_tokens=500\n",
    "        )\n",
    "        return response.choices[0].message.content\n",
    "    except Exception as e:\n",
    "        print(f\"Error generating answer: {e}\")\n",
    "        return \"Sorry, I couldn't generate an answer.\""
   ]
  },
  {
   "cell_type": "code",
   "execution_count": 26,
   "id": "8248135a-a7b7-4c73-b529-eb94f2b38efd",
   "metadata": {},
   "outputs": [],
   "source": [
    "def answer_question(pc, index, question):\n",
    "    query_vector = get_embedding(pc, question)\n",
    "    relevant_docs = find_relevant_docs(index, query_vector)\n",
    "    \n",
    "    if not relevant_docs:\n",
    "        return \"Sorry, I couldn't find any relevant information.\"\n",
    "    \n",
    "    return generate_answer(question, relevant_docs)"
   ]
  },
  {
   "cell_type": "code",
   "execution_count": 44,
   "id": "2a76f71f-b12f-4c22-b115-80f41067036b",
   "metadata": {},
   "outputs": [
    {
     "name": "stdout",
     "output_type": "stream",
     "text": [
      "Index might already exist: (409)\n",
      "Reason: Conflict\n",
      "HTTP response headers: HTTPHeaderDict({'content-type': 'text/plain; charset=utf-8', 'access-control-allow-origin': '*', 'vary': 'origin,access-control-request-method,access-control-request-headers', 'access-control-expose-headers': '*', 'x-pinecone-api-version': '2024-07', 'X-Cloud-Trace-Context': '656f1772bc7924a89ed020b581f428a2', 'Date': 'Mon, 30 Dec 2024 09:01:04 GMT', 'Server': 'Google Frontend', 'Content-Length': '85', 'Via': '1.1 google', 'Alt-Svc': 'h3=\":443\"; ma=2592000,h3-29=\":443\"; ma=2592000'})\n",
      "HTTP response body: {\"error\":{\"code\":\"ALREADY_EXISTS\",\"message\":\"Resource  already exists\"},\"status\":409}\n",
      "\n"
     ]
    }
   ],
   "source": [
    "pc, index = initialize_pinecone()"
   ]
  },
  {
   "cell_type": "code",
   "execution_count": 53,
   "id": "3d27eeba-8799-4f2b-978b-60f20186f00d",
   "metadata": {},
   "outputs": [
    {
     "name": "stdout",
     "output_type": "stream",
     "text": [
      "['1. Do I need a dedicated internet connection? or I can consume course contents offline once logged in? You would need an active internet connection to consume course contents. 2. What are my system requirements to login in to the swayam portal? Following are the system requirements: 1) Laptop/Desktop with stable internet connection. 2) Latest flash player should be installed in your computer. 3) Operating system: Mac iOS, Microsoft Windows, Android, Linux. 4) Browser: Inte rnet Explorer, Chrome*, Safari, Firefox, Opera. 5) Port 1935 RTMP or Port 80 should be open. 3. Can I also download my content for offline access? Yes provided faculty has given the download access to the students. [G] COURSE & ITS SETTINGS', '1. Once you get enrolled into the course you need to go to the course schedule to access all the course material assigned by the faculty. Once you get enrolled into the course you need to go to the course schedule to access all the course material assigned by the faculty. 2. Do I have to watch all the videos in the course to earn credit? Yes, completion of the course includes watching of the videos and going through the course materials 3. Can I also access the content offline in case my internet is not working? No, you need an active internet connection to access your content on swayam portal. 4. Can I submit my assignments online? Yes, It can be done! 5. I am not able to access my content within the course, What could be the reason? Please check if your internet connection is working and refresh your computer screen. 6. While accessing video content, I was unable to hear any sound, Why it is so? Please check your system audio if it is working fine. 7. Does learners have an option where they can track all their recent activities? Yes, learners post login will be able to see a complete Dashboard on their screen which will include their learner calendar, recent conversations, courses, Due assignments & Tests etc.', 'it. Just make sure that you allow the Flash plugin to access your audio a nd video. Your attendance will be marked automatically. 22. Do I need to mark my attendance for live classes? Your attendance will be marked automatically. [F] TECHNICAL REQUIREMENTS']\n"
     ]
    }
   ],
   "source": [
    "question = \"Do I need a dedicated internet connection?\"\n",
    "print(find_relevant_docs(index,get_embedding(pc,question)))"
   ]
  },
  {
   "cell_type": "code",
   "execution_count": 46,
   "id": "18055e36-6bd7-438a-8901-881f92799aef",
   "metadata": {},
   "outputs": [
    {
     "name": "stdout",
     "output_type": "stream",
     "text": [
      "API Response: {'status': 'OK', 'request_id': '7d3a8ad4-239c-464e-9699-2e5e44da24ef', 'data': {'message': \"I don't have enough information to answer that.\", 'images': [], 'web_searches': [], 'sources': [], 'conversation_id': '8954353d526cd8c03ed1a92d', 'conversation_expiration': '2024-12-30T15:01:15.0572128Z', 'conversation_ended': False, 'is_user_message_offensive': False, 'user_messages_limit': 4, 'user_messages_remaining': 3}}\n",
      "Sorry, I couldn't generate an answer.\n"
     ]
    }
   ],
   "source": [
    "answer = answer_question(pc, index, question)\n",
    "print(answer)"
   ]
  },
  {
   "cell_type": "markdown",
   "id": "609cff31-a341-474e-9955-72a6e415fe8f",
   "metadata": {},
   "source": [
    "# Error Occurring only because i dont have enough balance in my openai account"
   ]
  },
  {
   "cell_type": "markdown",
   "id": "16b7e595-bdb2-40bb-8176-ea59553bb6b3",
   "metadata": {},
   "source": [
    "## I am completing the demonstration using CoPilot API because it is free"
   ]
  },
  {
   "cell_type": "code",
   "execution_count": 3,
   "id": "9354df4c-0486-404d-816d-1a753dd76322",
   "metadata": {},
   "outputs": [],
   "source": [
    "import requests\n",
    "\n",
    "def generate_answer_copilot(question, context):\n",
    "    url = \"https://copilot5.p.rapidapi.com/copilot\"\n",
    "    headers = {\n",
    "        \"Content-Type\": \"application/json\",\n",
    "        \"x-rapidapi-host\": \"copilot5.p.rapidapi.com\",\n",
    "        \"x-rapidapi-key\": \" \"  # Your API key goes here\n",
    "    }\n",
    "    \n",
    "    context_text = \"\\n\".join(context)\n",
    "    payload = {\n",
    "        \"message\": f\"Using the following context, answer the question. If the answer isn't in the context, say 'I don't have enough information to answer that.'\\n\\nContext:\\n{context_text}\\n\\nQuestion: {question}\\nAnswer:\",\n",
    "        \"conversation_id\": None,\n",
    "        \"tone\": \"BALANCED\",\n",
    "        \"markdown\": False,\n",
    "        \"photo_url\": None\n",
    "    }\n",
    "    \n",
    "    try:\n",
    "        response = requests.post(url, headers=headers, json=payload)\n",
    "        response.raise_for_status()\n",
    "        data = response.json()\n",
    "        #print(\"API Response:\", data)\n",
    "        return data['data']['message']\n",
    "    except requests.exceptions.RequestException as e:\n",
    "        print(f\"Request error: {e}\")\n",
    "        return \"Sorry, I couldn't generate an answer.\"\n",
    "    except Exception as e:\n",
    "        print(f\"Error generating answer: {e}\")\n",
    "        return \"Sorry, I couldn't generate an answer.\"\n"
   ]
  },
  {
   "cell_type": "code",
   "execution_count": 74,
   "id": "d959c86a-ee7a-4b8d-b5d1-89a43bb8ca5f",
   "metadata": {},
   "outputs": [],
   "source": [
    "def answer_question_copilot(pc, index, question):\n",
    "    query_vector = get_embedding(pc, question)\n",
    "    relevant_docs = find_relevant_docs(index, query_vector)\n",
    "    \n",
    "    if not relevant_docs:\n",
    "        return \"Sorry, I couldn't find any relevant information.\"\n",
    "    #print(question)\n",
    "    #print(relevant_docs)\n",
    "    return generate_answer_copilot(question, relevant_docs)"
   ]
  },
  {
   "cell_type": "code",
   "execution_count": 76,
   "id": "a177f10b-99ec-4afd-a839-266bacf9b384",
   "metadata": {},
   "outputs": [],
   "source": [
    "question = \"Do I need a dedicated internet connection?\""
   ]
  },
  {
   "cell_type": "code",
   "execution_count": 78,
   "id": "dd67e83b-0dcf-4cf9-8d85-f0673f2e5122",
   "metadata": {},
   "outputs": [
    {
     "name": "stdout",
     "output_type": "stream",
     "text": [
      "You would need an active internet connection to consume course contents.\n"
     ]
    }
   ],
   "source": [
    "answer = answer_question_copilot(pc, index, question)\n",
    "print(answer)"
   ]
  }
 ],
 "metadata": {
  "kernelspec": {
   "display_name": "Python 3 (ipykernel)",
   "language": "python",
   "name": "python3"
  },
  "language_info": {
   "codemirror_mode": {
    "name": "ipython",
    "version": 3
   },
   "file_extension": ".py",
   "mimetype": "text/x-python",
   "name": "python",
   "nbconvert_exporter": "python",
   "pygments_lexer": "ipython3",
   "version": "3.10.14"
  },
  "panel-cell-order": [
   "9adb6a3c-63f6-4ee8-b50d-aaf58f0f0db9"
  ]
 },
 "nbformat": 4,
 "nbformat_minor": 5
}
